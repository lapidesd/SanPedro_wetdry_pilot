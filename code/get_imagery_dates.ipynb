{
 "cells": [
  {
   "cell_type": "code",
   "execution_count": 1,
   "id": "7dada7d7-efad-400b-a4fa-a92fbbb782aa",
   "metadata": {},
   "outputs": [],
   "source": [
    "import pandas as pd\n",
    "import os"
   ]
  },
  {
   "cell_type": "code",
   "execution_count": 2,
   "id": "7c2a7357-76e2-4514-b8ab-7a5b32d180cc",
   "metadata": {},
   "outputs": [],
   "source": [
    "for loc in ['Cienega/data/Imagery/PSScene/','Ramsey/imagery/data_use/']:\n",
    "    filepath = '/Users/danalapides/Documents/wet_dry_extension/'+loc\n",
    "    imfiles = os.listdir(filepath)\n",
    "    imfiles = [i for i in imfiles if i.endswith('SR_clip.tif')]\n",
    "    imdates = [i.split('_')[0] for i in imfiles]\n",
    "    imdates = [i[:4]+'-'+i[4:6]+'-'+i[6:8] for i in imdates]\n",
    "    imdates = pd.DataFrame.from_dict({'date':imdates})\n",
    "    imdates['date'] = pd.to_datetime(imdates['date'])\n",
    "    imdates = imdates.set_index('date').sort_index().reset_index().drop_duplicates()\n",
    "    imdates.to_csv('../data/'+loc.split('/')[0]+'/'+loc.split('/')[0]+'ImageryDates.csv',\n",
    "                  index=False)"
   ]
  },
  {
   "cell_type": "code",
   "execution_count": null,
   "id": "d3c9fbad-4a65-4e8c-93e1-a2d9c764c2d8",
   "metadata": {},
   "outputs": [],
   "source": []
  }
 ],
 "metadata": {
  "kernelspec": {
   "display_name": "Python 3 (ipykernel)",
   "language": "python",
   "name": "python3"
  },
  "language_info": {
   "codemirror_mode": {
    "name": "ipython",
    "version": 3
   },
   "file_extension": ".py",
   "mimetype": "text/x-python",
   "name": "python",
   "nbconvert_exporter": "python",
   "pygments_lexer": "ipython3",
   "version": "3.11.4"
  }
 },
 "nbformat": 4,
 "nbformat_minor": 5
}
