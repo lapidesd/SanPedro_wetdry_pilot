{
 "cells": [
  {
   "cell_type": "code",
   "execution_count": 3,
   "id": "bbf27ff6",
   "metadata": {},
   "outputs": [],
   "source": [
    "import pandas as pd\n",
    "import csv \n",
    "from datetime import timedelta"
   ]
  },
  {
   "cell_type": "code",
   "execution_count": 4,
   "id": "614892c8",
   "metadata": {},
   "outputs": [],
   "source": [
    "R_im_date = pd.read_csv('../data/Ramsey/RamseyImageryDates.csv', parse_dates=['date'])\n",
    "years = range(2016, 2025)\n",
    "R_sur_date = pd.DataFrame([pd.Timestamp(year=year, month=6, day=15) for year in years], columns = ['date'])\n",
    "R_im_date['date'] = pd.to_datetime(R_im_date['date'])\n",
    "R_sur_date['date'] = pd.to_datetime(R_sur_date['date'])\n"
   ]
  },
  {
   "cell_type": "code",
   "execution_count": 7,
   "id": "9d584ad8",
   "metadata": {},
   "outputs": [],
   "source": [
    "matching_dates = []\n",
    "tolerance = timedelta(days = 5)\n",
    "\n",
    "for date1 in R_sur_date['date']:\n",
    "    exact_date = False\n",
    "    tol = False \n",
    "    for date2 in R_im_date['date']:\n",
    "        if date1 == date2:\n",
    "            matching_dates.append({'Survey': date1, 'Imagery': date2})\n",
    "            exact_date = True\n",
    "    if not exact_date:\n",
    "        for date2 in R_im_date['date']:\n",
    "            if abs(date1 - date2) <= tolerance:\n",
    "                matching_dates.append({'Survey': date1, 'Imagery': date2})\n",
    "        if not tol: \n",
    "            for date2 in R_im_date['date']:\n",
    "                if abs(date1-date2) < timedelta(days = 10): \n",
    "                    matching_dates.append({'Survey': date1, 'Imagery': date2})\n",
    "\n",
    "\n",
    "matching_df = pd.DataFrame(matching_dates)\n",
    "\n"
   ]
  },
  {
   "cell_type": "code",
   "execution_count": 9,
   "id": "292f79bd",
   "metadata": {},
   "outputs": [],
   "source": [
    "matching_df.to_csv('../data/Ramsey/Ramsey_survey_imagery.csv', index = 'False')"
   ]
  },
  {
   "cell_type": "code",
   "execution_count": null,
   "id": "c44f0dbe",
   "metadata": {},
   "outputs": [],
   "source": []
  }
 ],
 "metadata": {
  "kernelspec": {
   "display_name": "Python 3 (ipykernel)",
   "language": "python",
   "name": "python3"
  },
  "language_info": {
   "codemirror_mode": {
    "name": "ipython",
    "version": 3
   },
   "file_extension": ".py",
   "mimetype": "text/x-python",
   "name": "python",
   "nbconvert_exporter": "python",
   "pygments_lexer": "ipython3",
   "version": "3.11.5"
  }
 },
 "nbformat": 4,
 "nbformat_minor": 5
}
