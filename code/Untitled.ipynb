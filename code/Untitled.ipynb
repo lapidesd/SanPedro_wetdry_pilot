{
 "cells": [
  {
   "cell_type": "code",
   "execution_count": 1,
   "id": "b085a9d7",
   "metadata": {},
   "outputs": [],
   "source": [
    "import pandas as pd\n",
    "import geopandas as gpd"
   ]
  },
  {
   "cell_type": "code",
   "execution_count": 2,
   "id": "3dde5e05",
   "metadata": {},
   "outputs": [],
   "source": [
    "w = gpd.read_file('../data/Cienega/wetdry/1999/Jun 1999/ccflow99.shp')"
   ]
  },
  {
   "cell_type": "code",
   "execution_count": 3,
   "id": "daa54787-870d-4e15-97f9-e37b6badfbf9",
   "metadata": {},
   "outputs": [
    {
     "data": {
      "text/html": [
       "<div>\n",
       "<style scoped>\n",
       "    .dataframe tbody tr th:only-of-type {\n",
       "        vertical-align: middle;\n",
       "    }\n",
       "\n",
       "    .dataframe tbody tr th {\n",
       "        vertical-align: top;\n",
       "    }\n",
       "\n",
       "    .dataframe thead th {\n",
       "        text-align: right;\n",
       "    }\n",
       "</style>\n",
       "<table border=\"1\" class=\"dataframe\">\n",
       "  <thead>\n",
       "    <tr style=\"text-align: right;\">\n",
       "      <th></th>\n",
       "      <th>ID</th>\n",
       "      <th>NOTES</th>\n",
       "      <th>SITE_ID</th>\n",
       "      <th>LENGTH</th>\n",
       "      <th>geometry</th>\n",
       "    </tr>\n",
       "  </thead>\n",
       "  <tbody>\n",
       "    <tr>\n",
       "      <th>0</th>\n",
       "      <td>0</td>\n",
       "      <td>Downstream of Tilted Beds</td>\n",
       "      <td>Reach #1</td>\n",
       "      <td>5567</td>\n",
       "      <td>LINESTRING (1111680.312 365680.472, 1111628.08...</td>\n",
       "    </tr>\n",
       "    <tr>\n",
       "      <th>1</th>\n",
       "      <td>0</td>\n",
       "      <td>Downstream of Cienega well</td>\n",
       "      <td>Reach #2</td>\n",
       "      <td>4019</td>\n",
       "      <td>LINESTRING (1101504.749 370798.993, 1101447.02...</td>\n",
       "    </tr>\n",
       "    <tr>\n",
       "      <th>2</th>\n",
       "      <td>0</td>\n",
       "      <td>Perennial flow under Marsh Station Rd. bridge</td>\n",
       "      <td>Reach #3</td>\n",
       "      <td>3516</td>\n",
       "      <td>LINESTRING (1095385.889 373047.337, 1095355.40...</td>\n",
       "    </tr>\n",
       "    <tr>\n",
       "      <th>3</th>\n",
       "      <td>0</td>\n",
       "      <td>Intermittent flow in area; small reach of flow...</td>\n",
       "      <td>Reach #4b</td>\n",
       "      <td>39</td>\n",
       "      <td>LINESTRING (1085966.339 377532.505, 1085989.32...</td>\n",
       "    </tr>\n",
       "    <tr>\n",
       "      <th>4</th>\n",
       "      <td>0</td>\n",
       "      <td>Intermittent flow in area; small reach of flow...</td>\n",
       "      <td>Reach #4a</td>\n",
       "      <td>40</td>\n",
       "      <td>LINESTRING (1086071.241 377494.238, 1086094.67...</td>\n",
       "    </tr>\n",
       "    <tr>\n",
       "      <th>5</th>\n",
       "      <td>0</td>\n",
       "      <td>Water flows into Vail Water Co pipeline at the...</td>\n",
       "      <td>Reach #5</td>\n",
       "      <td>1112</td>\n",
       "      <td>LINESTRING (1085029.324 378289.404, 1085010.66...</td>\n",
       "    </tr>\n",
       "  </tbody>\n",
       "</table>\n",
       "</div>"
      ],
      "text/plain": [
       "   ID                                              NOTES    SITE_ID  LENGTH  \\\n",
       "0   0                          Downstream of Tilted Beds   Reach #1    5567   \n",
       "1   0                         Downstream of Cienega well   Reach #2    4019   \n",
       "2   0      Perennial flow under Marsh Station Rd. bridge   Reach #3    3516   \n",
       "3   0  Intermittent flow in area; small reach of flow...  Reach #4b      39   \n",
       "4   0  Intermittent flow in area; small reach of flow...  Reach #4a      40   \n",
       "5   0  Water flows into Vail Water Co pipeline at the...   Reach #5    1112   \n",
       "\n",
       "                                            geometry  \n",
       "0  LINESTRING (1111680.312 365680.472, 1111628.08...  \n",
       "1  LINESTRING (1101504.749 370798.993, 1101447.02...  \n",
       "2  LINESTRING (1095385.889 373047.337, 1095355.40...  \n",
       "3  LINESTRING (1085966.339 377532.505, 1085989.32...  \n",
       "4  LINESTRING (1086071.241 377494.238, 1086094.67...  \n",
       "5  LINESTRING (1085029.324 378289.404, 1085010.66...  "
      ]
     },
     "execution_count": 3,
     "metadata": {},
     "output_type": "execute_result"
    }
   ],
   "source": [
    "w"
   ]
  },
  {
   "cell_type": "code",
   "execution_count": null,
   "id": "59b4428b-8484-47f4-84cf-9949bc284a73",
   "metadata": {},
   "outputs": [],
   "source": []
  }
 ],
 "metadata": {
  "kernelspec": {
   "display_name": "Python 3 (ipykernel)",
   "language": "python",
   "name": "python3"
  },
  "language_info": {
   "codemirror_mode": {
    "name": "ipython",
    "version": 3
   },
   "file_extension": ".py",
   "mimetype": "text/x-python",
   "name": "python",
   "nbconvert_exporter": "python",
   "pygments_lexer": "ipython3",
   "version": "3.11.9"
  }
 },
 "nbformat": 4,
 "nbformat_minor": 5
}
